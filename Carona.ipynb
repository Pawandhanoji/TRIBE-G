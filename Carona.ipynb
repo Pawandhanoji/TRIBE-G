{
  "nbformat": 4,
  "nbformat_minor": 0,
  "metadata": {
    "colab": {
      "name": "Carona.ipynb",
      "provenance": [],
      "collapsed_sections": [],
      "include_colab_link": true
    },
    "kernelspec": {
      "name": "python3",
      "display_name": "Python 3"
    }
  },
  "cells": [
    {
      "cell_type": "markdown",
      "metadata": {
        "id": "view-in-github",
        "colab_type": "text"
      },
      "source": [
        "<a href=\"https://colab.research.google.com/github/Pawandhanoji/TRIBE-G/blob/main/Carona.ipynb\" target=\"_parent\"><img src=\"https://colab.research.google.com/assets/colab-badge.svg\" alt=\"Open In Colab\"/></a>"
      ]
    },
    {
      "cell_type": "code",
      "metadata": {
        "id": "RIAgG67YlyEp"
      },
      "source": [
        "import pandas as pd\n",
        "import numpy as np\n",
        "import matplotlib.pyplot as plt\n",
        "import seaborn as sns\n",
        "import plotly.express as px ### for plotting the data on world map"
      ],
      "execution_count": null,
      "outputs": []
    },
    {
      "cell_type": "code",
      "metadata": {
        "id": "nplcBFiEm1OX"
      },
      "source": [
        "path = 'https://raw.githubusercontent.com/CSSEGISandData/COVID-19/master/csse_covid_19_data/csse_covid_19_daily_reports/05-25-2020.csv'\n",
        "df = pd.read_csv(path)\n",
        "df.info()\n",
        "df.head()"
      ],
      "execution_count": null,
      "outputs": []
    },
    {
      "cell_type": "code",
      "metadata": {
        "id": "mBLHNwIbs6H9"
      },
      "source": [
        "df.drop(['FIPS', 'Admin2','Last_Update','Province_State', 'Combined_Key'], axis=1, inplace=True)\n",
        "df.rename(columns={'Country_Region': \"Country\"}, inplace=True)\n",
        "df.head()\n"
      ],
      "execution_count": null,
      "outputs": []
    },
    {
      "cell_type": "code",
      "metadata": {
        "id": "A5tHmWrcuPr6"
      },
      "source": [
        "### group the data by country\n",
        "\n",
        "world = df.groupby(\"Country\")['Confirmed','Active','Recovered','Deaths'].sum().reset_index()\n",
        "world.head()"
      ],
      "execution_count": null,
      "outputs": []
    },
    {
      "cell_type": "code",
      "metadata": {
        "id": "u0X8HGU6xGJW"
      },
      "source": [
        "top_5 = world.sort_values(by=['Confirmed'], ascending=False).head()\n",
        "\n",
        "### Generate a Barplot\n",
        "plt.figure(figsize=(15,5))\n",
        "confirmed = sns.barplot(top_5['Confirmed'], top_5['Country'], color = 'red', label='Confirmed')\n",
        "recovered = sns.barplot(top_5['Recovered'], top_5['Country'], color = 'green', label='Recovered')\n",
        "\n",
        "### Adding Texts for barplots\n",
        "for i,(value,name) in enumerate(zip(top_5['Confirmed'],top_5['Country'])):\n",
        "  confirmed.text(value,i-0.05,f'{value:,.0f}',size=9)\n",
        "for i,(value,name) in enumerate(zip(top_5['Recovered'],top_5['Country'])):\n",
        "  recovered.text(value,i-0.05,f'{value:,.0f}',size=9)\n",
        "\n",
        "plt.legend(loc=4)\n",
        "plt.show()\n"
      ],
      "execution_count": null,
      "outputs": []
    },
    {
      "cell_type": "code",
      "metadata": {
        "id": "lYaKjzTc1Qa5"
      },
      "source": [
        "figure = px.choropleth(world,locations='Country', locationmode='country names', color='Confirmed', hover_name='Country', color_continuous_scale='tealgrn', range_color=[1,10000],title='Countries with Confirmed cases')\n",
        "figure.show()"
      ],
      "execution_count": null,
      "outputs": []
    }
  ]
}